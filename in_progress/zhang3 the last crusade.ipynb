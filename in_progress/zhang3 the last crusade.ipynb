{
 "cells": [
  {
   "cell_type": "code",
   "execution_count": 1,
   "metadata": {},
   "outputs": [],
   "source": [
    "import importlib.machinery\n",
    "import numpy as np\n",
    "\n",
    "pyfor = importlib.machinery.SourceFileLoader('pyfor','/home/bryce/Programming/PyFor/pyfor/__init__.py').load_module()"
   ]
  },
  {
   "cell_type": "markdown",
   "metadata": {},
   "source": [
    "http://users.cis.fiu.edu/~chens/PDF/TGRS.pdf"
   ]
  },
  {
   "cell_type": "code",
   "execution_count": 48,
   "metadata": {},
   "outputs": [],
   "source": [
    "# Load a sample point cloud and retrieve a 0.5 resolution grid\n",
    "\n",
    "a = pyfor.cloud.Cloud(\"/home/bryce/Desktop/pyfor_test_data/PC_001.las\")\n",
    "a_grid = a.grid(0.5)\n",
    "#A = a_grid.array(\"min\", \"z\")\n",
    "A = a_grid.interpolate(\"min\", \"z\")\n",
    "A = A[1:600, 1:600]"
   ]
  },
  {
   "cell_type": "markdown",
   "metadata": {},
   "source": [
    "Determine series of $w_k$ using (4) or (5) where $w_k$ <= maximum window size\n",
    "\n",
    "(4): $w_k = 2kb + 1$\n",
    "\n",
    "(5): $w_k = 2b^k + 1$\n",
    "\n",
    "I'll elect to try (4) first, authors suggest it is computationally easier later on."
   ]
  },
  {
   "cell_type": "code",
   "execution_count": 56,
   "metadata": {},
   "outputs": [
    {
     "data": {
      "text/plain": [
       "[5, 9, 13, 17]"
      ]
     },
     "execution_count": 56,
     "metadata": {},
     "output_type": "execute_result"
    }
   ],
   "source": [
    "test_z = A[1,:]\n",
    "max_window_size = 4\n",
    "\n",
    "def w_k(k, b = 2):\n",
    "    return(2 * k * b + 1)\n",
    "  \n",
    "def dht(elev_array, w_k, w_k_1):\n",
    "    s = slope(elev_array, w_k, w_k_1)\n",
    "    if w_k <= 3:\n",
    "        return(dh0)\n",
    "    elif w_k > 3:\n",
    "        return(s*(w_k - w_k_1)*c + dh0)\n",
    "    else:\n",
    "        return(dhmax)\n",
    "\n",
    "def dhmax(elev_array):\n",
    "    return(np.max(elev_array) - np.min(elev_array))\n",
    "\n",
    "    \n",
    "def slope(elev_array, w_k, w_k_1):\n",
    "    s = dhmax(elev_array) / ((w_k - w_k_1) / 2)\n",
    "    return(s)\n",
    "\n",
    "    \n",
    "w_k_list = list(map(w_k, range(1, max_window_size+1)))\n",
    "\n",
    "w_k_list"
   ]
  },
  {
   "cell_type": "code",
   "execution_count": 50,
   "metadata": {},
   "outputs": [],
   "source": [
    "# Set parameters\n",
    "c = a_grid.cell_size\n",
    "b = 2\n",
    "d_hmax = 3\n",
    "m = A.shape[0]\n",
    "n= A.shape[1]\n",
    "dh0 = 1\n",
    "flag = np.zeros((m, n))"
   ]
  },
  {
   "cell_type": "code",
   "execution_count": 55,
   "metadata": {
    "scrolled": false
   },
   "outputs": [
    {
     "data": {
      "text/plain": [
       "array([  0.00000000e+00,   0.00000000e+00,   0.00000000e+00,\n",
       "         0.00000000e+00,   0.00000000e+00,   0.00000000e+00,\n",
       "        -2.51200000e+01,   0.00000000e+00,   0.00000000e+00,\n",
       "         0.00000000e+00,   0.00000000e+00,   0.00000000e+00,\n",
       "         0.00000000e+00,   0.00000000e+00,   0.00000000e+00,\n",
       "         0.00000000e+00,   0.00000000e+00,   0.00000000e+00,\n",
       "         0.00000000e+00,   0.00000000e+00,   0.00000000e+00,\n",
       "         0.00000000e+00,   0.00000000e+00,   0.00000000e+00,\n",
       "         0.00000000e+00,   2.62000000e+01,   0.00000000e+00,\n",
       "         0.00000000e+00,   0.00000000e+00,   0.00000000e+00,\n",
       "         0.00000000e+00,   0.00000000e+00,   0.00000000e+00,\n",
       "         0.00000000e+00,   0.00000000e+00,   0.00000000e+00,\n",
       "         0.00000000e+00,   0.00000000e+00,  -1.71300000e+01,\n",
       "         0.00000000e+00,   0.00000000e+00,   0.00000000e+00,\n",
       "         0.00000000e+00,   0.00000000e+00,   0.00000000e+00,\n",
       "         0.00000000e+00,   0.00000000e+00,   0.00000000e+00,\n",
       "         0.00000000e+00,   0.00000000e+00,   0.00000000e+00,\n",
       "         0.00000000e+00,   0.00000000e+00,   0.00000000e+00,\n",
       "         0.00000000e+00,   0.00000000e+00,   0.00000000e+00,\n",
       "         0.00000000e+00,   0.00000000e+00,   0.00000000e+00,\n",
       "         0.00000000e+00,   0.00000000e+00,   0.00000000e+00,\n",
       "         0.00000000e+00,   0.00000000e+00,   0.00000000e+00,\n",
       "         0.00000000e+00,   0.00000000e+00,   0.00000000e+00,\n",
       "         2.10900000e+01,   0.00000000e+00,   0.00000000e+00,\n",
       "         0.00000000e+00,   0.00000000e+00,   0.00000000e+00,\n",
       "         0.00000000e+00,   0.00000000e+00,   0.00000000e+00,\n",
       "        -3.95000000e+00,   0.00000000e+00,   0.00000000e+00,\n",
       "         0.00000000e+00,   0.00000000e+00,   0.00000000e+00,\n",
       "         0.00000000e+00,   0.00000000e+00,   0.00000000e+00,\n",
       "         0.00000000e+00,   0.00000000e+00,   0.00000000e+00,\n",
       "         0.00000000e+00,   0.00000000e+00,   0.00000000e+00,\n",
       "        -2.48700000e+01,   0.00000000e+00,   0.00000000e+00,\n",
       "         0.00000000e+00,   0.00000000e+00,   0.00000000e+00,\n",
       "         0.00000000e+00,   0.00000000e+00,   0.00000000e+00,\n",
       "         0.00000000e+00,  -3.69000000e+00,   0.00000000e+00,\n",
       "         0.00000000e+00,   0.00000000e+00,   0.00000000e+00,\n",
       "         0.00000000e+00,   0.00000000e+00,   0.00000000e+00,\n",
       "         0.00000000e+00,   0.00000000e+00,   0.00000000e+00,\n",
       "         0.00000000e+00,   0.00000000e+00,   0.00000000e+00,\n",
       "         0.00000000e+00,   0.00000000e+00,   0.00000000e+00,\n",
       "         0.00000000e+00,   0.00000000e+00,   1.43000000e+00,\n",
       "         0.00000000e+00,   0.00000000e+00,   0.00000000e+00,\n",
       "         0.00000000e+00,   0.00000000e+00,   0.00000000e+00,\n",
       "         0.00000000e+00,   0.00000000e+00,   0.00000000e+00,\n",
       "         0.00000000e+00,   0.00000000e+00,   0.00000000e+00,\n",
       "         0.00000000e+00,   0.00000000e+00,   0.00000000e+00,\n",
       "         0.00000000e+00,   5.60000000e-01,   0.00000000e+00,\n",
       "         0.00000000e+00,   0.00000000e+00,   1.57200000e+01,\n",
       "        -2.94000000e+00,   0.00000000e+00,   0.00000000e+00,\n",
       "         0.00000000e+00,   0.00000000e+00,   0.00000000e+00,\n",
       "         0.00000000e+00,   0.00000000e+00,   0.00000000e+00,\n",
       "         0.00000000e+00,   0.00000000e+00,   0.00000000e+00,\n",
       "         0.00000000e+00,   0.00000000e+00,   0.00000000e+00,\n",
       "         0.00000000e+00,   0.00000000e+00,   0.00000000e+00,\n",
       "         0.00000000e+00,   0.00000000e+00,   0.00000000e+00,\n",
       "         1.17300000e+01,   4.00000000e-02,  -1.80000000e-01,\n",
       "         0.00000000e+00,  -1.30000000e-01,   0.00000000e+00,\n",
       "         0.00000000e+00,   0.00000000e+00,  -4.90000000e-01,\n",
       "         0.00000000e+00,   0.00000000e+00,   0.00000000e+00,\n",
       "        -1.90000000e-01,   0.00000000e+00,   0.00000000e+00,\n",
       "        -8.00000000e-02,   0.00000000e+00,   0.00000000e+00,\n",
       "        -3.00000000e-02,   0.00000000e+00,   0.00000000e+00,\n",
       "         0.00000000e+00,   0.00000000e+00,   0.00000000e+00,\n",
       "         0.00000000e+00,   0.00000000e+00,   0.00000000e+00,\n",
       "         0.00000000e+00,   0.00000000e+00,   0.00000000e+00,\n",
       "         0.00000000e+00,   0.00000000e+00,   0.00000000e+00,\n",
       "         0.00000000e+00,   0.00000000e+00,   0.00000000e+00,\n",
       "         0.00000000e+00,   0.00000000e+00,   0.00000000e+00,\n",
       "         0.00000000e+00,   0.00000000e+00,   0.00000000e+00,\n",
       "         0.00000000e+00,   0.00000000e+00,   1.80000000e-01,\n",
       "         0.00000000e+00,   0.00000000e+00,   2.00000000e-02,\n",
       "         6.00000000e-02,   1.30000000e-01,   2.00000000e-02,\n",
       "         0.00000000e+00,   0.00000000e+00,   0.00000000e+00,\n",
       "         2.40000000e-01,   1.40000000e-01,   0.00000000e+00,\n",
       "         0.00000000e+00,   0.00000000e+00,   0.00000000e+00,\n",
       "         0.00000000e+00,   2.90000000e-01,   0.00000000e+00,\n",
       "         1.10000000e-01,   0.00000000e+00,   0.00000000e+00,\n",
       "         0.00000000e+00,   0.00000000e+00,   0.00000000e+00,\n",
       "         0.00000000e+00,   0.00000000e+00,   0.00000000e+00,\n",
       "         0.00000000e+00,   0.00000000e+00,   0.00000000e+00,\n",
       "         0.00000000e+00,   1.00000000e-01,   0.00000000e+00,\n",
       "         0.00000000e+00,   0.00000000e+00,   0.00000000e+00,\n",
       "         0.00000000e+00,   0.00000000e+00,   0.00000000e+00,\n",
       "         0.00000000e+00,   0.00000000e+00,   2.70000000e-01,\n",
       "         0.00000000e+00,   0.00000000e+00,   0.00000000e+00,\n",
       "         0.00000000e+00,   0.00000000e+00,   0.00000000e+00,\n",
       "         0.00000000e+00,   0.00000000e+00,   0.00000000e+00,\n",
       "         1.50000000e-01,   0.00000000e+00,   0.00000000e+00,\n",
       "         0.00000000e+00,   0.00000000e+00,   0.00000000e+00,\n",
       "         0.00000000e+00,   0.00000000e+00,   0.00000000e+00,\n",
       "         0.00000000e+00,   1.40000000e-01,   0.00000000e+00,\n",
       "         8.00000000e-02,   0.00000000e+00,   4.00000000e-02,\n",
       "         0.00000000e+00,   9.00000000e-02,  -1.00000000e-01,\n",
       "        -1.30000000e-01,  -5.30000000e-01,  -1.60000000e-01,\n",
       "         0.00000000e+00,   0.00000000e+00,  -9.00000000e-02,\n",
       "        -2.10000000e-01,   0.00000000e+00,   0.00000000e+00,\n",
       "         0.00000000e+00,   0.00000000e+00,   0.00000000e+00,\n",
       "         0.00000000e+00,   0.00000000e+00,   0.00000000e+00,\n",
       "         0.00000000e+00,   0.00000000e+00,   0.00000000e+00,\n",
       "         0.00000000e+00,   0.00000000e+00,   0.00000000e+00,\n",
       "         0.00000000e+00,   0.00000000e+00,   0.00000000e+00,\n",
       "         0.00000000e+00,   0.00000000e+00,   0.00000000e+00,\n",
       "         0.00000000e+00,   0.00000000e+00,   0.00000000e+00,\n",
       "         0.00000000e+00,   0.00000000e+00,   0.00000000e+00,\n",
       "         3.30000000e-01,   0.00000000e+00,   0.00000000e+00,\n",
       "         0.00000000e+00,   0.00000000e+00,   0.00000000e+00,\n",
       "         1.30000000e-01,   4.20000000e-01,   0.00000000e+00,\n",
       "         1.40000000e-01,   0.00000000e+00,   0.00000000e+00,\n",
       "         0.00000000e+00,   0.00000000e+00,   2.50000000e-01,\n",
       "         1.70000000e-01,   0.00000000e+00,   0.00000000e+00,\n",
       "         0.00000000e+00,   3.60000000e-01,   4.80000000e-01,\n",
       "         0.00000000e+00,   4.70000000e-01,   3.30000000e-01,\n",
       "         3.90000000e-01,   0.00000000e+00,   3.30000000e-01,\n",
       "         9.00000000e-02,   2.00000000e-02,   3.50000000e-01,\n",
       "         2.40000000e-01,   1.70000000e-01,   1.30000000e-01,\n",
       "         1.00000000e-02,   0.00000000e+00,   2.60000000e-01,\n",
       "         2.00000000e-02,   0.00000000e+00,   0.00000000e+00,\n",
       "         0.00000000e+00,   5.30000000e-01,   0.00000000e+00,\n",
       "         2.00000000e-02,   8.40000000e-01,   2.00000000e-01,\n",
       "         1.00000000e-02,   0.00000000e+00,   0.00000000e+00,\n",
       "         0.00000000e+00,   0.00000000e+00,   3.60000000e-01,\n",
       "         0.00000000e+00,   0.00000000e+00,   0.00000000e+00,\n",
       "         0.00000000e+00,   0.00000000e+00,   1.00000000e-02,\n",
       "        -5.80000000e-01,   0.00000000e+00,   0.00000000e+00,\n",
       "         0.00000000e+00,   0.00000000e+00,   0.00000000e+00,\n",
       "         0.00000000e+00,   0.00000000e+00,   0.00000000e+00,\n",
       "         0.00000000e+00,   0.00000000e+00,   0.00000000e+00,\n",
       "         0.00000000e+00,  -3.00000000e-02,  -1.50000000e-01,\n",
       "        -1.00000000e-01,   0.00000000e+00,   0.00000000e+00,\n",
       "         0.00000000e+00,   0.00000000e+00,  -1.50000000e-01,\n",
       "         0.00000000e+00,  -1.80000000e-01,  -1.60000000e-01,\n",
       "        -1.40000000e-01,   0.00000000e+00,  -1.10000000e-01,\n",
       "        -6.00000000e-02,  -2.00000000e-02,   0.00000000e+00,\n",
       "        -2.50000000e-01,   0.00000000e+00,   0.00000000e+00,\n",
       "         0.00000000e+00,   0.00000000e+00,   0.00000000e+00,\n",
       "         0.00000000e+00,   0.00000000e+00,   0.00000000e+00,\n",
       "         0.00000000e+00,   0.00000000e+00,   0.00000000e+00,\n",
       "         0.00000000e+00,   0.00000000e+00,  -2.80000000e-01,\n",
       "        -3.00000000e-01,   0.00000000e+00,   0.00000000e+00,\n",
       "         0.00000000e+00,   0.00000000e+00,  -7.80000000e-01,\n",
       "         0.00000000e+00,   0.00000000e+00,   0.00000000e+00,\n",
       "         0.00000000e+00,   0.00000000e+00,   0.00000000e+00,\n",
       "         0.00000000e+00,   0.00000000e+00,   0.00000000e+00,\n",
       "        -2.10000000e-01,   0.00000000e+00,   0.00000000e+00,\n",
       "         0.00000000e+00,   0.00000000e+00,   0.00000000e+00,\n",
       "        -4.70000000e-01,   0.00000000e+00,   0.00000000e+00,\n",
       "         0.00000000e+00,   0.00000000e+00,   0.00000000e+00,\n",
       "         0.00000000e+00,   0.00000000e+00,   0.00000000e+00,\n",
       "         0.00000000e+00,   0.00000000e+00,   0.00000000e+00,\n",
       "         0.00000000e+00,  -3.00000000e-02,   0.00000000e+00,\n",
       "        -4.00000000e-02,   0.00000000e+00,  -5.90000000e-01,\n",
       "         0.00000000e+00,   0.00000000e+00,   0.00000000e+00,\n",
       "         0.00000000e+00,  -5.00000000e-02,  -9.00000000e-02,\n",
       "         0.00000000e+00,   0.00000000e+00,   0.00000000e+00,\n",
       "         0.00000000e+00,   0.00000000e+00,   0.00000000e+00,\n",
       "         0.00000000e+00,   0.00000000e+00,   0.00000000e+00,\n",
       "         0.00000000e+00,  -1.10000000e-01,  -7.70000000e-01,\n",
       "         0.00000000e+00,   0.00000000e+00,   0.00000000e+00,\n",
       "         0.00000000e+00,   0.00000000e+00,   0.00000000e+00,\n",
       "         0.00000000e+00,   0.00000000e+00,   0.00000000e+00,\n",
       "         0.00000000e+00,   0.00000000e+00,   0.00000000e+00,\n",
       "         0.00000000e+00,   0.00000000e+00,   0.00000000e+00,\n",
       "         0.00000000e+00,   0.00000000e+00,   4.50000000e-01,\n",
       "         3.00000000e-02,  -2.60000000e-01,   0.00000000e+00,\n",
       "         0.00000000e+00,   0.00000000e+00,  -1.50000000e-01,\n",
       "        -1.00000000e-02,  -6.10000000e-01,   0.00000000e+00,\n",
       "         0.00000000e+00,   0.00000000e+00,   0.00000000e+00,\n",
       "         0.00000000e+00,   0.00000000e+00,   0.00000000e+00,\n",
       "         0.00000000e+00,   0.00000000e+00,  -1.10000000e-01,\n",
       "         0.00000000e+00,   0.00000000e+00,   0.00000000e+00,\n",
       "         0.00000000e+00,   0.00000000e+00,   0.00000000e+00,\n",
       "         0.00000000e+00,   0.00000000e+00,   0.00000000e+00,\n",
       "         0.00000000e+00,   0.00000000e+00,   0.00000000e+00,\n",
       "        -1.40000000e-01,   0.00000000e+00,  -8.00000000e-01,\n",
       "         0.00000000e+00,   0.00000000e+00,  -3.00000000e-02,\n",
       "        -2.60000000e-01,  -1.20000000e-01,   0.00000000e+00,\n",
       "        -7.00000000e-02,   0.00000000e+00,  -3.50000000e-01,\n",
       "         0.00000000e+00,  -4.00000000e-02,   0.00000000e+00,\n",
       "         0.00000000e+00,   0.00000000e+00,  -9.00000000e-02,\n",
       "         0.00000000e+00,   0.00000000e+00,  -1.20000000e-01,\n",
       "        -5.00000000e-02,  -1.50000000e-01,  -1.10000000e-01,\n",
       "        -2.80000000e-01,  -2.00000000e-01,  -5.00000000e-02,\n",
       "        -5.00000000e-02,  -1.00000000e-01,  -4.00000000e-02,\n",
       "        -2.40000000e-01,  -1.40000000e-01,  -5.00000000e-02,\n",
       "         0.00000000e+00,   0.00000000e+00,   0.00000000e+00,\n",
       "        -1.80000000e-01,   0.00000000e+00,   0.00000000e+00,\n",
       "         0.00000000e+00,  -9.00000000e-02,   0.00000000e+00,\n",
       "         0.00000000e+00,   0.00000000e+00,  -1.20000000e-01,\n",
       "        -4.50000000e-01,  -1.70000000e-01,   0.00000000e+00,\n",
       "         0.00000000e+00,   0.00000000e+00,   0.00000000e+00,\n",
       "         0.00000000e+00,  -2.00000000e-01,   0.00000000e+00,\n",
       "         0.00000000e+00,   0.00000000e+00,   0.00000000e+00,\n",
       "         0.00000000e+00,  -1.70000000e-01,   0.00000000e+00,\n",
       "         0.00000000e+00,  -8.00000000e-02,   0.00000000e+00,\n",
       "         0.00000000e+00,   0.00000000e+00,  -1.30000000e-01,\n",
       "         0.00000000e+00,   0.00000000e+00,   0.00000000e+00,\n",
       "         0.00000000e+00,   0.00000000e+00,   0.00000000e+00,\n",
       "         0.00000000e+00,   0.00000000e+00,   0.00000000e+00,\n",
       "         0.00000000e+00,   0.00000000e+00,   0.00000000e+00,\n",
       "         0.00000000e+00,   0.00000000e+00])"
      ]
     },
     "execution_count": 55,
     "metadata": {},
     "output_type": "execute_result"
    }
   ],
   "source": [
    "test_z = A[1,:]\n",
    "\n",
    "def erosion(Z, w_k):\n",
    "    Z_f = []\n",
    "    for j in range(1, n+1):\n",
    "        # Construct vector of l indices\n",
    "        lb = np.floor(j - (w_k / 2))\n",
    "        ub = np.ceil(j + (w_k / 2))\n",
    "        \n",
    "        a = [Z[l] for l in range(int(lb), int(ub)) if l >=0 and l <= len(Z)-1]\n",
    "        Z_f.append(np.min(a))\n",
    "    return(Z_f)\n",
    "    \n",
    "def dilation(Z, w_k):\n",
    "    Z_f = []\n",
    "    for j in range(1, n+1):\n",
    "        # Construct vector of l indices\n",
    "        lb = np.floor(j - (w_k / 2))\n",
    "        ub = np.ceil(j + (w_k / 2))\n",
    "        \n",
    "        a = [Z[l] for l in range(int(lb), int(ub)) if l >=0 and l <= len(Z)-1]\n",
    "        Z_f.append(np.max(a))\n",
    "    return(Z_f)\n",
    "\n",
    "test_zf = erosion(test_z, 5)\n",
    "test_zf = dilation(test_zf, 5)\n",
    "test_z - test_zf\n",
    "\n",
    "#w_k_list"
   ]
  },
  {
   "cell_type": "code",
   "execution_count": 57,
   "metadata": {},
   "outputs": [
    {
     "data": {
      "text/plain": [
       "0.0"
      ]
     },
     "execution_count": 57,
     "metadata": {},
     "output_type": "execute_result"
    }
   ],
   "source": [
    "w_k_min = min(w_k_list)\n",
    "\n",
    "for w_k in enumerate(w_k_list):\n",
    "    if w_k[1] == w_k_min:\n",
    "        w_k_1 = 0\n",
    "    else:\n",
    "        w_k_1 = w_k_list[w_k[0] - 1]\n",
    "    for i in range(0, m):\n",
    "        P_i = A[i,:]\n",
    "        Z = P_i\n",
    "        Z_f = erosion(Z, w_k[1])\n",
    "        Z_f = dilation(Z_f, w_k[1])\n",
    "        P_i = Z_f\n",
    "        A[i,:] = P_i\n",
    "        dh_t = dht(Z, w_k[1], w_k_1)\n",
    "        for j in range(0, n):\n",
    "            if Z[j] - Z_f[j] > dh_t:\n",
    "                flag[i,j] = w_k[1]\n",
    "    # there is an extra bit in zhang but I think my function does\n",
    "    # it already\n",
    "\n",
    "np.sum(flag)"
   ]
  },
  {
   "cell_type": "code",
   "execution_count": 80,
   "metadata": {},
   "outputs": [
    {
     "name": "stdout",
     "output_type": "stream",
     "text": [
      "0 1\n",
      "1 2\n",
      "2 3\n"
     ]
    }
   ],
   "source": [
    "test = [1,2,3]\n",
    "\n",
    "for i in enumerate(test):\n",
    "    print(i[0], i[1])"
   ]
  },
  {
   "cell_type": "code",
   "execution_count": 73,
   "metadata": {},
   "outputs": [
    {
     "data": {
      "text/plain": [
       "48.899999999999977"
      ]
     },
     "execution_count": 73,
     "metadata": {},
     "output_type": "execute_result"
    }
   ],
   "source": [
    "dht(test_z, w_k_list[1], w_k_list[0])"
   ]
  },
  {
   "cell_type": "code",
   "execution_count": 54,
   "metadata": {},
   "outputs": [
    {
     "data": {
      "image/png": "[encoded data removed]",
      "text/plain": [
       "<Figure size 432x288 with 2 Axes>"
      ]
     },
     "metadata": {},
     "output_type": "display_data"
    },
    {
     "data": {
      "text/plain": [
       "0.0"
      ]
     },
     "execution_count": 54,
     "metadata": {},
     "output_type": "execute_result"
    }
   ],
   "source": [
    "import matplotlib.pyplot as plt\n",
    "\n",
    "A1 = a_grid.interpolate(min, \"z\")\n",
    "\n",
    "plt.imshow(flag);\n",
    "plt.colorbar()\n",
    "plt.show()"
   ]
  },
  {
   "cell_type": "code",
   "execution_count": 12,
   "metadata": {},
   "outputs": [
    {
     "data": {
      "text/plain": [
       "array([[ 629.93,  629.93,  637.79, ...,  610.58,  610.66,  610.66],\n",
       "       [ 629.93,  629.93,  629.93, ...,  610.58,  610.66,  610.66],\n",
       "       [ 610.93,  629.93,  629.93, ...,  610.58,  610.66,  610.66],\n",
       "       ..., \n",
       "       [ 591.51,  591.51,  591.51, ...,  704.13,  685.13,  685.13],\n",
       "       [ 591.35,  591.35,  591.35, ...,  706.73,  705.24,  705.24],\n",
       "       [ 591.35,  591.35,  591.35, ...,  706.73,  705.24,  705.24]])"
      ]
     },
     "execution_count": 12,
     "metadata": {},
     "output_type": "execute_result"
    }
   ],
   "source": [
    "a_grid.interpolate(\"min\", \"z\")"
   ]
  }
 ],
 "metadata": {
  "kernelspec": {
   "display_name": "Python (myenv)",
   "language": "python",
   "name": "myenv"
  },
  "language_info": {
   "codemirror_mode": {
    "name": "ipython",
    "version": 3
   },
   "file_extension": ".py",
   "mimetype": "text/x-python",
   "name": "python",
   "nbconvert_exporter": "python",
   "pygments_lexer": "ipython3",
   "version": "3.6.5"
  }
 },
 "nbformat": 4,
 "nbformat_minor": 2
}
