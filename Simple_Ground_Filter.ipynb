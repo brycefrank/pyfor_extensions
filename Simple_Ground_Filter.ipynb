{
 "cells": [
  {
   "cell_type": "markdown",
   "metadata": {},
   "source": [
    "An integral part of LiDAR data processing is computing an underlying digital terrain model (DTM) so that we can easily compute the heights of objects in our point cloud. There are a multitude of ways to do this, and this chapter will go over one of the most basic approaches as a way to apply the concepts covered in the previous exercise. More sophisticated algorithms should be used for operational LiDAR analysis, this is only a simple example.\n",
    "\n",
    "The basic idea is to find the minimum point within each grid cell of a gridded point cloud. We will classify this point as \"ground point\" and rewrite to a new LAS file. We can take advantage of some functions we developed in the \"Canopy Height Model\" exercise to do this.\n",
    "\n",
    "Below we import our functions from the \"Canopy Height Model\" exercise and grid the input las file."
   ]
  },
  {
   "cell_type": "code",
   "execution_count": 57,
   "metadata": {},
   "outputs": [
    {
     "data": {
      "text/html": [
       "<div>\n",
       "<style scoped>\n",
       "    .dataframe tbody tr th:only-of-type {\n",
       "        vertical-align: middle;\n",
       "    }\n",
       "\n",
       "    .dataframe tbody tr th {\n",
       "        vertical-align: top;\n",
       "    }\n",
       "\n",
       "    .dataframe thead th {\n",
       "        text-align: right;\n",
       "    }\n",
       "</style>\n",
       "<table border=\"1\" class=\"dataframe\">\n",
       "  <thead>\n",
       "    <tr style=\"text-align: right;\">\n",
       "      <th></th>\n",
       "      <th>bins_x</th>\n",
       "      <th>bins_y</th>\n",
       "      <th>x</th>\n",
       "      <th>y</th>\n",
       "      <th>z</th>\n",
       "    </tr>\n",
       "  </thead>\n",
       "  <tbody>\n",
       "    <tr>\n",
       "      <th>0</th>\n",
       "      <td>1</td>\n",
       "      <td>1</td>\n",
       "      <td>470094.87</td>\n",
       "      <td>5016466.27</td>\n",
       "      <td>521.20</td>\n",
       "    </tr>\n",
       "    <tr>\n",
       "      <th>1</th>\n",
       "      <td>1</td>\n",
       "      <td>1</td>\n",
       "      <td>470094.93</td>\n",
       "      <td>5016465.58</td>\n",
       "      <td>521.78</td>\n",
       "    </tr>\n",
       "    <tr>\n",
       "      <th>2</th>\n",
       "      <td>1</td>\n",
       "      <td>1</td>\n",
       "      <td>470095.31</td>\n",
       "      <td>5016465.31</td>\n",
       "      <td>521.83</td>\n",
       "    </tr>\n",
       "    <tr>\n",
       "      <th>3</th>\n",
       "      <td>1</td>\n",
       "      <td>1</td>\n",
       "      <td>470095.27</td>\n",
       "      <td>5016465.97</td>\n",
       "      <td>521.83</td>\n",
       "    </tr>\n",
       "    <tr>\n",
       "      <th>4</th>\n",
       "      <td>1</td>\n",
       "      <td>1</td>\n",
       "      <td>470095.12</td>\n",
       "      <td>5016466.78</td>\n",
       "      <td>518.73</td>\n",
       "    </tr>\n",
       "  </tbody>\n",
       "</table>\n",
       "</div>"
      ],
      "text/plain": [
       "   bins_x  bins_y          x           y       z\n",
       "0       1       1  470094.87  5016466.27  521.20\n",
       "1       1       1  470094.93  5016465.58  521.78\n",
       "2       1       1  470095.31  5016465.31  521.83\n",
       "3       1       1  470095.27  5016465.97  521.83\n",
       "4       1       1  470095.12  5016466.78  518.73"
      ]
     },
     "execution_count": 57,
     "metadata": {},
     "output_type": "execute_result"
    }
   ],
   "source": [
    "import laspy\n",
    "import pandas as pd\n",
    "import numpy as np\n",
    "import matplotlib.pyplot as plt\n",
    "\n",
    "# Read in the las data\n",
    "las1 = laspy.file.File(\"data/sample.las\")\n",
    "\n",
    "def grid(las, c):\n",
    "    # Determine the number of rows (m) and columns (n)\n",
    "    # Some python interpreters complain about the np float datatype\n",
    "    # So we will convert to integers just in case\n",
    "    m = int(np.floor((max(las.y) - min(las.y)) / c) + 1)\n",
    "    n = int(np.floor((max(las.x) - min(las.x)) / c) + 1)\n",
    "    \n",
    "    # Create bins\n",
    "    bins_x = np.digitize(las.x, np.linspace(min(las.x), max(las.x), n))\n",
    "    bins_y = np.digitize(las.y, np.linspace(min(las.y), max(las.y), m))\n",
    "\n",
    "    # Add bins and las data to a new dataframe\n",
    "    df = pd.DataFrame({'x': las.x, 'y': las.y, 'z': las.z, 'bins_x': bins_x, 'bins_y': bins_y})\n",
    "    return(df)\n",
    "\n",
    "gridded_las = grid(las1, 3)\n",
    "gridded_las.head(5)"
   ]
  },
  {
   "cell_type": "markdown",
   "metadata": {},
   "source": [
    "To preserve some efficiency, the information we want to retrieve is a list of indices that correspond to the points in the original point cloud with the minimum z value in each cell. We can do this using a boolean mask and the `pandas` `transform` function."
   ]
  },
  {
   "cell_type": "code",
   "execution_count": 58,
   "metadata": {},
   "outputs": [],
   "source": [
    "# Group a subset of the data by bin ID\n",
    "gridded_las_group = gridded_las[[\"bins_x\", \"bins_y\", \"z\"]].groupby([\"bins_x\", \"bins_y\"])\n",
    "\n",
    "# Transform the groups and find the indices of the minimum z for each group (i.e. each cell)\n",
    "ground_mask = gridded_las_group['z'].transform(min) == las1.z"
   ]
  },
  {
   "cell_type": "markdown",
   "metadata": {},
   "source": [
    "Now that we have the mask available, we can use it to write a new las file and a host of other operations. Because `numpy` and `pandas` play well with eachother, we can directly use the `pandas` derived mask as a mask for the `las1.x` `numpy` array."
   ]
  },
  {
   "cell_type": "code",
   "execution_count": 59,
   "metadata": {},
   "outputs": [],
   "source": [
    "# Get the ground points\n",
    "las1.x[ground_mask]\n",
    "las1.y[ground_mask]\n",
    "las1.z[ground_mask]\n",
    "\n",
    "# Write to file\n",
    "\n",
    "outlas = laspy.file.File(\"./data/simple_Ground.las\", mode = \"w\",\n",
    "                header = las1.header)\n",
    "\n",
    "outlas.x = las1.x[ground_mask]\n",
    "outlas.y = las1.y[ground_mask]\n",
    "outlas.z = las1.z[ground_mask]\n",
    "\n",
    "outlas.close()"
   ]
  },
  {
   "cell_type": "markdown",
   "metadata": {},
   "source": [
    "There are still some issues, most notably at the edges of the point cloud that should be addressed. More sophisticated ground filters are ideal for operational use, however. One solution is to consider only the \"inner\" portion of the tile. This would remove converns at the edge."
   ]
  }
 ],
 "metadata": {
  "kernelspec": {
   "display_name": "Python 2",
   "language": "python",
   "name": "python2"
  },
  "language_info": {
   "codemirror_mode": {
    "name": "ipython",
    "version": 2
   },
   "file_extension": ".py",
   "mimetype": "text/x-python",
   "name": "python",
   "nbconvert_exporter": "python",
   "pygments_lexer": "ipython2",
   "version": "2.7.12"
  }
 },
 "nbformat": 4,
 "nbformat_minor": 2
}
